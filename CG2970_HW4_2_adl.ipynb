{
  "nbformat": 4,
  "nbformat_minor": 0,
  "metadata": {
    "colab": {
      "name": "CG2970_HW4_2_adl",
      "provenance": [],
      "collapsed_sections": [],
      "include_colab_link": true
    },
    "kernelspec": {
      "name": "python3",
      "display_name": "Python 3"
    },
    "accelerator": "GPU"
  },
  "cells": [
    {
      "cell_type": "markdown",
      "metadata": {
        "id": "view-in-github",
        "colab_type": "text"
      },
      "source": [
        "<a href=\"https://colab.research.google.com/github/goyetc/color_picker/blob/master/CG2970_HW4_2_adl.ipynb\" target=\"_parent\"><img src=\"https://colab.research.google.com/assets/colab-badge.svg\" alt=\"Open In Colab\"/></a>"
      ]
    },
    {
      "cell_type": "markdown",
      "metadata": {
        "id": "IIFNY0-aXdWl",
        "colab_type": "text"
      },
      "source": [
        "# CG2970 - HW4 - Part 2\n",
        "* Note that two models were tried, a dense model and an LSTM. \n",
        "* The LSTM outperformed the dense model slightly, but not in a significant manner - both models accurately predicted a color (as seen below, at the end) from simple names. "
      ]
    },
    {
      "cell_type": "code",
      "metadata": {
        "id": "oB1rU1qQt2_A",
        "colab_type": "code",
        "outputId": "28a34395-87ae-439f-f9fe-7a55a030d3f6",
        "colab": {
          "base_uri": "https://localhost:8080/",
          "height": 85
        }
      },
      "source": [
        "!pip install -q tensorflow-gpu==2.0.0-alpha0"
      ],
      "execution_count": 0,
      "outputs": [
        {
          "output_type": "stream",
          "text": [
            "\u001b[K    100% |████████████████████████████████| 332.1MB 59kB/s \n",
            "\u001b[K    100% |████████████████████████████████| 419kB 11.0MB/s \n",
            "\u001b[K    100% |████████████████████████████████| 3.0MB 7.5MB/s \n",
            "\u001b[K    100% |████████████████████████████████| 61kB 19.6MB/s \n",
            "\u001b[?25h"
          ],
          "name": "stdout"
        }
      ]
    },
    {
      "cell_type": "code",
      "metadata": {
        "id": "6ao-JFaulDlA",
        "colab_type": "code",
        "colab": {}
      },
      "source": [
        "import tensorflow as tf\n",
        "\n",
        "from tensorflow.keras.preprocessing.text import Tokenizer\n",
        "from tensorflow.keras.preprocessing.sequence import pad_sequences\n",
        "\n",
        "import csv\n",
        "import matplotlib.pyplot as plt\n",
        "import numpy as np\n",
        "import os"
      ],
      "execution_count": 0,
      "outputs": []
    },
    {
      "cell_type": "code",
      "metadata": {
        "id": "Bmm0DUpnlNAw",
        "colab_type": "code",
        "outputId": "635be487-3d8c-4dd6-f2a7-cb3e714a7354",
        "colab": {
          "base_uri": "https://localhost:8080/",
          "height": 238
        }
      },
      "source": [
        "# Download the colors dataset\n",
        "if not os.path.exists('colors.csv'):\n",
        "  !curl -O 'https://raw.githubusercontent.com/random-forests/datasets/master/colors.csv'\n",
        "!head colors.csv"
      ],
      "execution_count": 0,
      "outputs": [
        {
          "output_type": "stream",
          "text": [
            "  % Total    % Received % Xferd  Average Speed   Time    Time     Time  Current\n",
            "                                 Dload  Upload   Total   Spent    Left  Speed\n",
            "\r  0     0    0     0    0     0      0      0 --:--:-- --:--:-- --:--:--     0\r100  323k  100  323k    0     0  1499k      0 --:--:-- --:--:-- --:--:-- 1499k\n",
            "name,red,green,blue\n",
            "parakeet,174,182,87\n",
            "saddle brown,88,52,1\n",
            "cucumber crush,222,237,215\n",
            "pool blue,134,194,201\n",
            "distance,98,110,130\n",
            "light urple,179,111,246\n",
            "east side,172,145,206\n",
            "florida seashells,250,228,199\n",
            "paris,145,167,189\n"
          ],
          "name": "stdout"
        }
      ]
    },
    {
      "cell_type": "code",
      "metadata": {
        "id": "A_hCjUoElOOo",
        "colab_type": "code",
        "outputId": "e12673f0-0485-45e3-ba91-7df3dbbe7b10",
        "colab": {
          "base_uri": "https://localhost:8080/",
          "height": 51
        }
      },
      "source": [
        "# Read the data\n",
        "colors_rgb = []\n",
        "csv_reader = csv.reader(open('colors.csv'), delimiter=',')\n",
        "next(csv_reader) # Remove the header\n",
        "for row in csv_reader:\n",
        "    name, r, g, b = row[0].lower().strip(), float(row[1]) / 255.0, float(row[2]) / 255.0, float(row[3]) / 255.0\n",
        "    colors_rgb.append((name, r, g, b))\n",
        "print(len(colors_rgb), 'colors downloaded')\n",
        "print('For example', colors_rgb[0])"
      ],
      "execution_count": 0,
      "outputs": [
        {
          "output_type": "stream",
          "text": [
            "14157 colors downloaded\n",
            "For example ('parakeet', 0.6823529411764706, 0.7137254901960784, 0.3411764705882353)\n"
          ],
          "name": "stdout"
        }
      ]
    },
    {
      "cell_type": "code",
      "metadata": {
        "id": "ISanLTTkm2qq",
        "colab_type": "code",
        "colab": {}
      },
      "source": [
        "names = [item[0] for item in colors_rgb]"
      ],
      "execution_count": 0,
      "outputs": []
    },
    {
      "cell_type": "code",
      "metadata": {
        "id": "wAsJ2UFealYr",
        "colab_type": "code",
        "colab": {}
      },
      "source": [
        "names"
      ],
      "execution_count": 0,
      "outputs": []
    },
    {
      "cell_type": "code",
      "metadata": {
        "id": "L1sjZ_tYnGNE",
        "colab_type": "code",
        "colab": {}
      },
      "source": [
        "maxlen = 25\n",
        "t = Tokenizer(char_level=True)\n",
        "t.fit_on_texts(names)\n",
        "tokenized = t.texts_to_sequences(names)\n",
        "padded_names = pad_sequences(tokenized, maxlen=maxlen)\n",
        "padded_names = padded_names.astype('float32')\n",
        "\n",
        "vocab_size = len(t.word_index) + 1"
      ],
      "execution_count": 0,
      "outputs": []
    },
    {
      "cell_type": "code",
      "metadata": {
        "id": "JOQIb8CdnGuV",
        "colab_type": "code",
        "colab": {}
      },
      "source": [
        "r = [item[1] for item in colors_rgb]\n",
        "g = [item[2] for item in colors_rgb]\n",
        "b = [item[3] for item in colors_rgb]\n",
        "targets = np.column_stack([r, g, b])"
      ],
      "execution_count": 0,
      "outputs": []
    },
    {
      "cell_type": "code",
      "metadata": {
        "id": "REWr0ESnRaeq",
        "colab_type": "code",
        "outputId": "0cfe250e-1e29-4696-d5ed-a820ec1e4c65",
        "colab": {
          "base_uri": "https://localhost:8080/",
          "height": 187
        }
      },
      "source": [
        "targets[:10,:]"
      ],
      "execution_count": 0,
      "outputs": [
        {
          "output_type": "execute_result",
          "data": {
            "text/plain": [
              "array([[0.68235294, 0.71372549, 0.34117647],\n",
              "       [0.34509804, 0.20392157, 0.00392157],\n",
              "       [0.87058824, 0.92941176, 0.84313725],\n",
              "       [0.5254902 , 0.76078431, 0.78823529],\n",
              "       [0.38431373, 0.43137255, 0.50980392],\n",
              "       [0.70196078, 0.43529412, 0.96470588],\n",
              "       [0.6745098 , 0.56862745, 0.80784314],\n",
              "       [0.98039216, 0.89411765, 0.78039216],\n",
              "       [0.56862745, 0.65490196, 0.74117647],\n",
              "       [0.96862745, 0.84313725, 0.84313725]])"
            ]
          },
          "metadata": {
            "tags": []
          },
          "execution_count": 8
        }
      ]
    },
    {
      "cell_type": "code",
      "metadata": {
        "id": "6Fg2x21uckCx",
        "colab_type": "code",
        "outputId": "e69635d7-4d16-4b58-a881-5c6afcea259e",
        "colab": {
          "base_uri": "https://localhost:8080/",
          "height": 170
        }
      },
      "source": [
        "#import random\n",
        "#print(random.sample(padded_names,10))\n",
        "padded_names[0:4]"
      ],
      "execution_count": 0,
      "outputs": [
        {
          "output_type": "execute_result",
          "data": {
            "text/plain": [
              "array([[ 0.,  0.,  0.,  0.,  0.,  0.,  0.,  0.,  0.,  0.,  0.,  0.,  0.,\n",
              "         0.,  0.,  0.,  0., 15.,  2.,  3.,  2., 21.,  1.,  1.,  9.],\n",
              "       [ 0.,  0.,  0.,  0.,  0.,  0.,  0.,  0.,  0.,  0.,  0.,  0.,  0.,\n",
              "        10.,  2., 13., 13.,  7.,  1.,  4., 18.,  3.,  8., 20.,  6.],\n",
              "       [ 0.,  0.,  0.,  0.,  0.,  0.,  0.,  0.,  0.,  0.,  0., 11., 12.,\n",
              "        11., 12., 17., 18.,  1.,  3.,  4., 11.,  3., 12., 10., 16.],\n",
              "       [ 0.,  0.,  0.,  0.,  0.,  0.,  0.,  0.,  0.,  0.,  0.,  0.,  0.,\n",
              "         0.,  0.,  0., 15.,  8.,  8.,  7.,  4., 18.,  7., 12.,  1.]],\n",
              "      dtype=float32)"
            ]
          },
          "metadata": {
            "tags": []
          },
          "execution_count": 13
        }
      ]
    },
    {
      "cell_type": "code",
      "metadata": {
        "id": "rG_R0s_mnI2O",
        "colab_type": "code",
        "outputId": "308779d1-db9b-47d0-813b-82b161714daa",
        "colab": {
          "base_uri": "https://localhost:8080/",
          "height": 459
        }
      },
      "source": [
        "# Improve me!\n",
        "model = tf.keras.Sequential()\n",
        "model.add(tf.keras.layers.Reshape((1, maxlen), input_shape=(maxlen,)))\n",
        "\n",
        "model.add(tf.keras.layers.Flatten())\n",
        "model.add(tf.keras.layers.Dense(128, activation = 'relu'))\n",
        "model.add(tf.keras.layers.Dense(64, activation = 'relu'))\n",
        "model.add(tf.keras.layers.Dense(64, activation = 'relu'))\n",
        "model.add(tf.keras.layers.Dropout(0.2))\n",
        "model.add(tf.keras.layers.Dense(32, activation = 'relu'))\n",
        "model.add(tf.keras.layers.Dropout(0.2))\n",
        "model.add(tf.keras.layers.Dense(3, activation='softmax'))\n",
        "\n",
        "model.compile('adam', loss='mse',metrics=['accuracy'])\n",
        "model.summary()"
      ],
      "execution_count": 0,
      "outputs": [
        {
          "output_type": "stream",
          "text": [
            "Model: \"sequential_11\"\n",
            "_________________________________________________________________\n",
            "Layer (type)                 Output Shape              Param #   \n",
            "=================================================================\n",
            "reshape_11 (Reshape)         (None, 1, 25)             0         \n",
            "_________________________________________________________________\n",
            "flatten_11 (Flatten)         (None, 25)                0         \n",
            "_________________________________________________________________\n",
            "dense_31 (Dense)             (None, 128)               3328      \n",
            "_________________________________________________________________\n",
            "dense_32 (Dense)             (None, 64)                8256      \n",
            "_________________________________________________________________\n",
            "dense_33 (Dense)             (None, 64)                4160      \n",
            "_________________________________________________________________\n",
            "dropout_4 (Dropout)          (None, 64)                0         \n",
            "_________________________________________________________________\n",
            "dense_34 (Dense)             (None, 32)                2080      \n",
            "_________________________________________________________________\n",
            "dropout_5 (Dropout)          (None, 32)                0         \n",
            "_________________________________________________________________\n",
            "dense_35 (Dense)             (None, 3)                 99        \n",
            "=================================================================\n",
            "Total params: 17,923\n",
            "Trainable params: 17,923\n",
            "Non-trainable params: 0\n",
            "_________________________________________________________________\n"
          ],
          "name": "stdout"
        }
      ]
    },
    {
      "cell_type": "code",
      "metadata": {
        "id": "sqOfMfWxoGiE",
        "colab_type": "code",
        "outputId": "bc1bf8e0-1e74-486e-d424-0239e1f5df93",
        "colab": {
          "base_uri": "https://localhost:8080/",
          "height": 544
        }
      },
      "source": [
        "# it's fine if your model massively overfits to the training\n",
        "# set for thsi experiment\n",
        "history = model.fit(padded_names, targets, epochs=15, validation_split=0.1)"
      ],
      "execution_count": 0,
      "outputs": [
        {
          "output_type": "stream",
          "text": [
            "Train on 12741 samples, validate on 1416 samples\n",
            "Epoch 1/15\n",
            "12741/12741 [==============================] - 3s 219us/sample - loss: 0.1463 - accuracy: 0.5117 - val_loss: 0.1345 - val_accuracy: 0.5925\n",
            "Epoch 2/15\n",
            "12741/12741 [==============================] - 3s 205us/sample - loss: 0.1401 - accuracy: 0.6116 - val_loss: 0.1338 - val_accuracy: 0.6398\n",
            "Epoch 3/15\n",
            "12741/12741 [==============================] - 3s 203us/sample - loss: 0.1394 - accuracy: 0.6348 - val_loss: 0.1336 - val_accuracy: 0.6419\n",
            "Epoch 4/15\n",
            "12741/12741 [==============================] - 3s 203us/sample - loss: 0.1390 - accuracy: 0.6454 - val_loss: 0.1332 - val_accuracy: 0.6462\n",
            "Epoch 5/15\n",
            "12741/12741 [==============================] - 3s 203us/sample - loss: 0.1387 - accuracy: 0.6547 - val_loss: 0.1330 - val_accuracy: 0.6631\n",
            "Epoch 6/15\n",
            "12741/12741 [==============================] - 3s 203us/sample - loss: 0.1384 - accuracy: 0.6577 - val_loss: 0.1330 - val_accuracy: 0.6645\n",
            "Epoch 7/15\n",
            "12741/12741 [==============================] - 3s 204us/sample - loss: 0.1382 - accuracy: 0.6581 - val_loss: 0.1329 - val_accuracy: 0.6617\n",
            "Epoch 8/15\n",
            "12741/12741 [==============================] - 3s 202us/sample - loss: 0.1379 - accuracy: 0.6631 - val_loss: 0.1326 - val_accuracy: 0.6660\n",
            "Epoch 9/15\n",
            "12741/12741 [==============================] - 3s 203us/sample - loss: 0.1378 - accuracy: 0.6619 - val_loss: 0.1325 - val_accuracy: 0.6645\n",
            "Epoch 10/15\n",
            "12741/12741 [==============================] - 3s 202us/sample - loss: 0.1376 - accuracy: 0.6624 - val_loss: 0.1330 - val_accuracy: 0.6716\n",
            "Epoch 11/15\n",
            "12741/12741 [==============================] - 3s 208us/sample - loss: 0.1375 - accuracy: 0.6662 - val_loss: 0.1329 - val_accuracy: 0.6688\n",
            "Epoch 12/15\n",
            "12741/12741 [==============================] - 3s 206us/sample - loss: 0.1374 - accuracy: 0.6644 - val_loss: 0.1324 - val_accuracy: 0.6702\n",
            "Epoch 13/15\n",
            "12741/12741 [==============================] - 3s 205us/sample - loss: 0.1371 - accuracy: 0.6662 - val_loss: 0.1322 - val_accuracy: 0.6589\n",
            "Epoch 14/15\n",
            "12741/12741 [==============================] - 3s 206us/sample - loss: 0.1371 - accuracy: 0.6665 - val_loss: 0.1322 - val_accuracy: 0.6688\n",
            "Epoch 15/15\n",
            "12741/12741 [==============================] - 3s 206us/sample - loss: 0.1368 - accuracy: 0.6663 - val_loss: 0.1326 - val_accuracy: 0.6582\n"
          ],
          "name": "stdout"
        }
      ]
    },
    {
      "cell_type": "code",
      "metadata": {
        "id": "hzEhRkNRe9gn",
        "colab_type": "code",
        "outputId": "51b36951-c1d8-4d1a-b963-53721290ec51",
        "colab": {
          "base_uri": "https://localhost:8080/",
          "height": 573
        }
      },
      "source": [
        "import matplotlib.pyplot as plt\n",
        "\n",
        "\n",
        "# Plot training & validation accuracy values\n",
        "plt.plot(history.history['accuracy'])\n",
        "plt.plot(history.history['val_accuracy'])\n",
        "plt.title('Model accuracy')\n",
        "plt.ylabel('Accuracy')\n",
        "plt.xlabel('Epoch')\n",
        "plt.legend(['Train', 'Validation'], loc='upper left')\n",
        "\n",
        "plt.show()\n",
        "\n",
        "# Plot training & validation loss values\n",
        "plt.plot(history.history['loss'])\n",
        "plt.plot(history.history['val_loss'])\n",
        "plt.title('Model loss')\n",
        "plt.ylabel('Loss')\n",
        "plt.xlabel('Epoch')\n",
        "plt.legend(['Train', 'Validation'], loc='upper left')\n",
        "\n",
        "plt.show()"
      ],
      "execution_count": 0,
      "outputs": [
        {
          "output_type": "display_data",
          "data": {
            "image/png": "[encoded data removed]",
            "text/plain": [
              "<Figure size 432x288 with 1 Axes>"
            ]
          },
          "metadata": {
            "tags": []
          }
        },
        {
          "output_type": "display_data",
          "data": {
            "image/png": "[encoded data removed]",
            "text/plain": [
              "<Figure size 432x288 with 1 Axes>"
            ]
          },
          "metadata": {
            "tags": []
          }
        }
      ]
    },
    {
      "cell_type": "code",
      "metadata": {
        "id": "qCy2JgTXgcNe",
        "colab_type": "code",
        "colab": {}
      },
      "source": [
        ""
      ],
      "execution_count": 0,
      "outputs": []
    },
    {
      "cell_type": "code",
      "metadata": {
        "colab_type": "code",
        "outputId": "ba34cb16-20fe-4d27-b62e-6258180bebcd",
        "id": "daPaWkCQgfs1",
        "colab": {
          "base_uri": "https://localhost:8080/",
          "height": 428
        }
      },
      "source": [
        "# Improve me!\n",
        "model_RNN = tf.keras.Sequential()\n",
        "model_RNN.add(tf.keras.layers.Reshape((1, maxlen), input_shape=(maxlen,)))\n",
        "\n",
        "model_RNN.add(tf.keras.layers.LSTM(32))\n",
        "model_RNN.add(tf.keras.layers.Flatten())\n",
        "\n",
        "model_RNN.add(tf.keras.layers.Dense(128, activation = 'relu'))\n",
        "model_RNN.add(tf.keras.layers.Dense(64, activation = 'relu'))\n",
        "model_RNN.add(tf.keras.layers.Dropout(0.2))\n",
        "\n",
        "model_RNN.add(tf.keras.layers.Dense(3, activation='softmax'))\n",
        "\n",
        "model_RNN.compile('adam', loss='mse',metrics=['accuracy'])\n",
        "model_RNN.summary()"
      ],
      "execution_count": 0,
      "outputs": [
        {
          "output_type": "stream",
          "text": [
            "W0413 21:29:50.082586 139812786308992 tf_logging.py:161] <tensorflow.python.keras.layers.recurrent.UnifiedLSTM object at 0x7f27c966c6d8>: Note that this layer is not optimized for performance. Please use tf.keras.layers.CuDNNLSTM for better performance on GPU.\n"
          ],
          "name": "stderr"
        },
        {
          "output_type": "stream",
          "text": [
            "Model: \"sequential_14\"\n",
            "_________________________________________________________________\n",
            "Layer (type)                 Output Shape              Param #   \n",
            "=================================================================\n",
            "reshape_14 (Reshape)         (None, 1, 25)             0         \n",
            "_________________________________________________________________\n",
            "unified_lstm_2 (UnifiedLSTM) (None, 32)                7424      \n",
            "_________________________________________________________________\n",
            "flatten_14 (Flatten)         (None, 32)                0         \n",
            "_________________________________________________________________\n",
            "dense_43 (Dense)             (None, 128)               4224      \n",
            "_________________________________________________________________\n",
            "dense_44 (Dense)             (None, 64)                8256      \n",
            "_________________________________________________________________\n",
            "dropout_9 (Dropout)          (None, 64)                0         \n",
            "_________________________________________________________________\n",
            "dense_45 (Dense)             (None, 3)                 195       \n",
            "=================================================================\n",
            "Total params: 20,099\n",
            "Trainable params: 20,099\n",
            "Non-trainable params: 0\n",
            "_________________________________________________________________\n"
          ],
          "name": "stdout"
        }
      ]
    },
    {
      "cell_type": "code",
      "metadata": {
        "colab_type": "code",
        "outputId": "b8bf1d46-47fb-4c40-9938-a0d7fad023ed",
        "id": "BE_wmWIXkiMz",
        "colab": {
          "base_uri": "https://localhost:8080/",
          "height": 374
        }
      },
      "source": [
        "# it's fine if your model massively overfits to the training\n",
        "# set for thsi experiment\n",
        "history_RNN = model_RNN.fit(padded_names, targets, epochs=10, validation_split = 0.05)"
      ],
      "execution_count": 0,
      "outputs": [
        {
          "output_type": "stream",
          "text": [
            "Train on 13449 samples, validate on 708 samples\n",
            "Epoch 1/10\n",
            "13449/13449 [==============================] - 3s 237us/sample - loss: 0.1353 - accuracy: 0.6703 - val_loss: 0.1323 - val_accuracy: 0.6511\n",
            "Epoch 2/10\n",
            "13449/13449 [==============================] - 3s 223us/sample - loss: 0.1351 - accuracy: 0.6701 - val_loss: 0.1328 - val_accuracy: 0.6681\n",
            "Epoch 3/10\n",
            "13449/13449 [==============================] - 3s 220us/sample - loss: 0.1350 - accuracy: 0.6719 - val_loss: 0.1322 - val_accuracy: 0.6737\n",
            "Epoch 4/10\n",
            "13449/13449 [==============================] - 3s 220us/sample - loss: 0.1348 - accuracy: 0.6709 - val_loss: 0.1327 - val_accuracy: 0.6766\n",
            "Epoch 5/10\n",
            "13449/13449 [==============================] - 3s 224us/sample - loss: 0.1346 - accuracy: 0.6750 - val_loss: 0.1328 - val_accuracy: 0.6709\n",
            "Epoch 6/10\n",
            "13449/13449 [==============================] - 3s 222us/sample - loss: 0.1345 - accuracy: 0.6707 - val_loss: 0.1328 - val_accuracy: 0.6737\n",
            "Epoch 7/10\n",
            "13449/13449 [==============================] - 3s 220us/sample - loss: 0.1343 - accuracy: 0.6763 - val_loss: 0.1330 - val_accuracy: 0.6667\n",
            "Epoch 8/10\n",
            "13449/13449 [==============================] - 3s 222us/sample - loss: 0.1342 - accuracy: 0.6784 - val_loss: 0.1328 - val_accuracy: 0.6554\n",
            "Epoch 9/10\n",
            "13449/13449 [==============================] - 3s 222us/sample - loss: 0.1340 - accuracy: 0.6752 - val_loss: 0.1326 - val_accuracy: 0.6582\n",
            "Epoch 10/10\n",
            "13449/13449 [==============================] - 3s 222us/sample - loss: 0.1339 - accuracy: 0.6781 - val_loss: 0.1329 - val_accuracy: 0.6653\n"
          ],
          "name": "stdout"
        }
      ]
    },
    {
      "cell_type": "code",
      "metadata": {
        "colab_type": "code",
        "outputId": "17f20266-38af-4c84-a4dd-ce10d92e1c8d",
        "id": "5yKGoqeHkz0F",
        "colab": {
          "base_uri": "https://localhost:8080/",
          "height": 573
        }
      },
      "source": [
        "# Plot training & validation accuracy values\n",
        "plt.plot(history_RNN.history['accuracy'])\n",
        "plt.plot(history_RNN.history['val_accuracy'])\n",
        "plt.title('Model accuracy')\n",
        "plt.ylabel('Accuracy')\n",
        "plt.xlabel('Epoch')\n",
        "plt.legend(['Train', 'Validation'], loc='upper left')\n",
        "\n",
        "plt.show()\n",
        "\n",
        "# Plot training & validation loss values\n",
        "plt.plot(history_RNN.history['loss'])\n",
        "plt.plot(history_RNN.history['val_loss'])\n",
        "plt.title('Model loss')\n",
        "plt.ylabel('Loss')\n",
        "plt.xlabel('Epoch')\n",
        "plt.legend(['Train', 'Validation'], loc='upper left')\n",
        "\n",
        "plt.show()"
      ],
      "execution_count": 0,
      "outputs": [
        {
          "output_type": "display_data",
          "data": {
            "image/png": "[encoded data removed]",
            "text/plain": [
              "<Figure size 432x288 with 1 Axes>"
            ]
          },
          "metadata": {
            "tags": []
          }
        },
        {
          "output_type": "display_data",
          "data": {
            "image/png": "[encoded data removed]",
            "text/plain": [
              "<Figure size 432x288 with 1 Axes>"
            ]
          },
          "metadata": {
            "tags": []
          }
        }
      ]
    },
    {
      "cell_type": "code",
      "metadata": {
        "id": "_IYXreehqc7f",
        "colab_type": "code",
        "colab": {}
      },
      "source": [
        "# plots a color image\n",
        "def plot_rgb(rgb):\n",
        "    data = [[rgb]]\n",
        "    plt.figure(figsize=(2,2))\n",
        "    plt.imshow(data, interpolation='nearest')\n",
        "    plt.axis('off')\n",
        "    plt.show()"
      ],
      "execution_count": 0,
      "outputs": []
    },
    {
      "cell_type": "code",
      "metadata": {
        "id": "Fc5TsbxQqep1",
        "colab_type": "code",
        "colab": {}
      },
      "source": [
        "def scale(n):\n",
        "    return int(n * 255)"
      ],
      "execution_count": 0,
      "outputs": []
    },
    {
      "cell_type": "code",
      "metadata": {
        "id": "_e1E5PMTqhcd",
        "colab_type": "code",
        "colab": {}
      },
      "source": [
        "def predict(name):\n",
        "    tokenized = t.texts_to_sequences([name])\n",
        "    padded = pad_sequences(tokenized, maxlen=maxlen)\n",
        "    padded = padded.astype('float32')\n",
        "    pred = model_RNN.predict(np.array(padded))[0]\n",
        "    r, g, b = scale(pred[0]), scale(pred[1]), scale(pred[2])\n",
        "    print(name + ',', 'R,G,B:', r,g,b)\n",
        "    plot_rgb(pred)"
      ],
      "execution_count": 0,
      "outputs": []
    },
    {
      "cell_type": "code",
      "metadata": {
        "id": "C2rwJDV9qjJN",
        "colab_type": "code",
        "outputId": "a50dfbab-59f5-4336-de3f-72963fec0d42",
        "colab": {
          "base_uri": "https://localhost:8080/",
          "height": 1116
        }
      },
      "source": [
        "# Hopefully this will improve with your updated model\n",
        "predict(\"red\")\n",
        "predict(\"green\")\n",
        "predict(\"blue\")\n",
        "predict(\"yellow\")\n",
        "predict(\"light blue\")\n",
        "predict(\"dark blue\")\n",
        "predict(\"tensorflow orange\")"
      ],
      "execution_count": 0,
      "outputs": [
        {
          "output_type": "stream",
          "text": [
            "red, R,G,B: 177 49 28\n"
          ],
          "name": "stdout"
        },
        {
          "output_type": "display_data",
          "data": {
            "image/png": "[encoded data removed]",
            "text/plain": [
              "<Figure size 144x144 with 1 Axes>"
            ]
          },
          "metadata": {
            "tags": []
          }
        },
        {
          "output_type": "stream",
          "text": [
            "green, R,G,B: 52 124 77\n"
          ],
          "name": "stdout"
        },
        {
          "output_type": "display_data",
          "data": {
            "image/png": "[encoded data removed]",
            "text/plain": [
              "<Figure size 144x144 with 1 Axes>"
            ]
          },
          "metadata": {
            "tags": []
          }
        },
        {
          "output_type": "stream",
          "text": [
            "blue, R,G,B: 26 79 148\n"
          ],
          "name": "stdout"
        },
        {
          "output_type": "display_data",
          "data": {
            "image/png": "[encoded data removed]",
            "text/plain": [
              "<Figure size 144x144 with 1 Axes>"
            ]
          },
          "metadata": {
            "tags": []
          }
        },
        {
          "output_type": "stream",
          "text": [
            "yellow, R,G,B: 128 122 3\n"
          ],
          "name": "stdout"
        },
        {
          "output_type": "display_data",
          "data": {
            "image/png": "[encoded data removed]",
            "text/plain": [
              "<Figure size 144x144 with 1 Axes>"
            ]
          },
          "metadata": {
            "tags": []
          }
        },
        {
          "output_type": "stream",
          "text": [
            "light blue, R,G,B: 30 85 138\n"
          ],
          "name": "stdout"
        },
        {
          "output_type": "display_data",
          "data": {
            "image/png": "[encoded data removed]",
            "text/plain": [
              "<Figure size 144x144 with 1 Axes>"
            ]
          },
          "metadata": {
            "tags": []
          }
        },
        {
          "output_type": "stream",
          "text": [
            "dark blue, R,G,B: 32 78 144\n"
          ],
          "name": "stdout"
        },
        {
          "output_type": "display_data",
          "data": {
            "image/png": "[encoded data removed]",
            "text/plain": [
              "<Figure size 144x144 with 1 Axes>"
            ]
          },
          "metadata": {
            "tags": []
          }
        },
        {
          "output_type": "stream",
          "text": [
            "tensorflow orange, R,G,B: 133 78 43\n"
          ],
          "name": "stdout"
        },
        {
          "output_type": "display_data",
          "data": {
            "image/png": "[encoded data removed]",
            "text/plain": [
              "<Figure size 144x144 with 1 Axes>"
            ]
          },
          "metadata": {
            "tags": []
          }
        }
      ]
    },
    {
      "cell_type": "code",
      "metadata": {
        "id": "pMuUSB5gflwE",
        "colab_type": "code",
        "colab": {}
      },
      "source": [
        "east side,172,145,206\n",
        "florida seashells,250,228,199\n",
        "paris,145,167,189\n",
        "cucumber crush,222,237,215"
      ],
      "execution_count": 0,
      "outputs": []
    }
  ]
}